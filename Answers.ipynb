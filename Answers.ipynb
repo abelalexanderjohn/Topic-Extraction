{
 "cells": [
  {
   "cell_type": "markdown",
   "id": "35955c0e-c9e7-4b76-8422-00c756d53ede",
   "metadata": {},
   "source": [
    "# Assignment 2: Extracting Topics from the Documents"
   ]
  },
  {
   "cell_type": "code",
   "execution_count": 2,
   "id": "1f56c51c-35ba-460f-8715-9d83c9c8279f",
   "metadata": {},
   "outputs": [],
   "source": [
    "import pandas as pd\n",
    "import nltk\n",
    "from nltk.corpus import stopwords\n",
    "from nltk.tokenize import word_tokenize\n",
    "from nltk.stem import WordNetLemmatizer\n",
    "from gensim.corpora import Dictionary\n",
    "from gensim.models import LdaModel, CoherenceModel\n",
    "import matplotlib.pyplot as plt"
   ]
  },
  {
   "cell_type": "code",
   "execution_count": 3,
   "id": "d979dd7c-ac80-42d8-9223-9711e67ba8ed",
   "metadata": {},
   "outputs": [
    {
     "name": "stderr",
     "output_type": "stream",
     "text": [
      "[nltk_data] Downloading package punkt_tab to\n",
      "[nltk_data]     C:\\Users\\abelj\\AppData\\Roaming\\nltk_data...\n",
      "[nltk_data]   Package punkt_tab is already up-to-date!\n",
      "[nltk_data] Downloading package stopwords to\n",
      "[nltk_data]     C:\\Users\\abelj\\AppData\\Roaming\\nltk_data...\n",
      "[nltk_data]   Package stopwords is already up-to-date!\n",
      "[nltk_data] Downloading package wordnet to\n",
      "[nltk_data]     C:\\Users\\abelj\\AppData\\Roaming\\nltk_data...\n",
      "[nltk_data]   Package wordnet is already up-to-date!\n"
     ]
    },
    {
     "data": {
      "text/plain": [
       "True"
      ]
     },
     "execution_count": 3,
     "metadata": {},
     "output_type": "execute_result"
    }
   ],
   "source": [
    "# Download necessary NLTK data\n",
    "nltk.download('punkt_tab')\n",
    "nltk.download('stopwords')\n",
    "nltk.download('wordnet')"
   ]
  },
  {
   "cell_type": "markdown",
   "id": "6810a6d6-f40f-4f08-a515-7b794bce2bf5",
   "metadata": {},
   "source": [
    "## Task 1: Data Exploration"
   ]
  },
  {
   "cell_type": "markdown",
   "id": "66e2a197-9aad-4e15-a382-4cfc782abbb2",
   "metadata": {},
   "source": [
    "### 1. Load the text_docs dataset"
   ]
  },
  {
   "cell_type": "code",
   "execution_count": 6,
   "id": "98bf6d1d-9cf7-4c1a-901f-5f4655fd9b48",
   "metadata": {},
   "outputs": [
    {
     "data": {
      "text/html": [
       "<div>\n",
       "<style scoped>\n",
       "    .dataframe tbody tr th:only-of-type {\n",
       "        vertical-align: middle;\n",
       "    }\n",
       "\n",
       "    .dataframe tbody tr th {\n",
       "        vertical-align: top;\n",
       "    }\n",
       "\n",
       "    .dataframe thead th {\n",
       "        text-align: right;\n",
       "    }\n",
       "</style>\n",
       "<table border=\"1\" class=\"dataframe\">\n",
       "  <thead>\n",
       "    <tr style=\"text-align: right;\">\n",
       "      <th></th>\n",
       "      <th>document_id</th>\n",
       "      <th>text</th>\n",
       "    </tr>\n",
       "  </thead>\n",
       "  <tbody>\n",
       "    <tr>\n",
       "      <th>0</th>\n",
       "      <td>1</td>\n",
       "      <td>The stock market has been experiencing volatil...</td>\n",
       "    </tr>\n",
       "    <tr>\n",
       "      <th>1</th>\n",
       "      <td>2</td>\n",
       "      <td>The economy is growing, and businesses are opt...</td>\n",
       "    </tr>\n",
       "    <tr>\n",
       "      <th>2</th>\n",
       "      <td>3</td>\n",
       "      <td>Climate change is a critical issue that needs ...</td>\n",
       "    </tr>\n",
       "  </tbody>\n",
       "</table>\n",
       "</div>"
      ],
      "text/plain": [
       "   document_id                                               text\n",
       "0            1  The stock market has been experiencing volatil...\n",
       "1            2  The economy is growing, and businesses are opt...\n",
       "2            3  Climate change is a critical issue that needs ..."
      ]
     },
     "execution_count": 6,
     "metadata": {},
     "output_type": "execute_result"
    }
   ],
   "source": [
    "text_docs_df = pd.read_csv(\"text_docs.csv\")\n",
    "text_docs_df.head(3)"
   ]
  },
  {
   "cell_type": "markdown",
   "id": "69c81867-78d3-4186-ab2a-2ae6b4838d8f",
   "metadata": {},
   "source": [
    "### 2. Print no. of rows and unique documents"
   ]
  },
  {
   "cell_type": "code",
   "execution_count": 8,
   "id": "49656cf6-3487-49ee-816c-5a34e990bd4d",
   "metadata": {},
   "outputs": [
    {
     "name": "stdout",
     "output_type": "stream",
     "text": [
      "Number of rows: 10\n",
      "Number of unique documents: 10\n"
     ]
    }
   ],
   "source": [
    "print(f\"Number of rows: {text_docs_df.shape[0]}\")\n",
    "\n",
    "print(f\"Number of unique documents: {text_docs_df[\"document_id\"].nunique()}\")"
   ]
  },
  {
   "cell_type": "markdown",
   "id": "91a6c6c0-c5b6-4a41-9cfa-5ec0d285c30a",
   "metadata": {},
   "source": [
    "- All rows have unique documents. Therefore, number of rows = number of unique documents."
   ]
  },
  {
   "cell_type": "markdown",
   "id": "fd0ccb6c-a777-452d-9a71-e84cef5327ce",
   "metadata": {},
   "source": [
    "### 3. Identify required preprocessing steps"
   ]
  },
  {
   "cell_type": "markdown",
   "id": "96f7bfdd-b1f9-4d61-b627-fc93da730080",
   "metadata": {},
   "source": [
    "#### a. Lowercase the text"
   ]
  },
  {
   "cell_type": "code",
   "execution_count": 12,
   "id": "ec7435a7-39e1-4a2d-b270-159e3e37b0bd",
   "metadata": {},
   "outputs": [],
   "source": [
    "text_docs_df['processed_text'] = text_docs_df['text'].apply(lambda x: x.lower())"
   ]
  },
  {
   "cell_type": "markdown",
   "id": "44b2f478-48e4-4241-a8b8-f8f3e6e34e06",
   "metadata": {},
   "source": [
    "#### b. Remove punctuations and special characters"
   ]
  },
  {
   "cell_type": "code",
   "execution_count": 14,
   "id": "49d0052d-572c-40de-a1ba-57d0d494256e",
   "metadata": {},
   "outputs": [],
   "source": [
    "text_docs_df['processed_text'] = text_docs_df['processed_text'].str.replace(r'[^\\w\\s]', '', regex=True)"
   ]
  },
  {
   "cell_type": "markdown",
   "id": "480dea1f-716a-4ee3-ac08-a1005128d722",
   "metadata": {},
   "source": [
    "#### c. Tokenize the text"
   ]
  },
  {
   "cell_type": "code",
   "execution_count": 16,
   "id": "383a52e6-6c46-47f1-8657-df566e8a757c",
   "metadata": {},
   "outputs": [],
   "source": [
    "text_docs_df['processed_text'] = text_docs_df['processed_text'].apply(\n",
    "    lambda x: word_tokenize(x)\n",
    ")"
   ]
  },
  {
   "cell_type": "markdown",
   "id": "366f8a5c-681b-4604-b2f1-f18505bd4036",
   "metadata": {},
   "source": [
    "#### d. Remove stop words"
   ]
  },
  {
   "cell_type": "code",
   "execution_count": 18,
   "id": "903d7cce-1c8f-4415-a22f-e93a2e3cf9ce",
   "metadata": {},
   "outputs": [],
   "source": [
    "stop_words = set(stopwords.words('english'))\n",
    "\n",
    "text_docs_df['processed_text'] = text_docs_df['processed_text'].apply(\n",
    "    lambda x: [word for word in x if word not in stop_words]\n",
    ")"
   ]
  },
  {
   "cell_type": "markdown",
   "id": "4d148d49-da02-4c6d-b475-9e8b74ce1012",
   "metadata": {},
   "source": [
    "#### e. Lemmatize the tokens"
   ]
  },
  {
   "cell_type": "code",
   "execution_count": 20,
   "id": "f92130d1-d7c1-448e-aeaa-b195556acfe2",
   "metadata": {},
   "outputs": [],
   "source": [
    "lemmatizer = WordNetLemmatizer()\n",
    "\n",
    "text_docs_df['processed_text'] = text_docs_df['processed_text'].apply(\n",
    "    lambda x: [lemmatizer.lemmatize(word) for word in x]\n",
    ")"
   ]
  },
  {
   "cell_type": "markdown",
   "id": "76bcf8a3-1ae9-4650-a519-f180e5c62b93",
   "metadata": {},
   "source": [
    "- Decided to lemmatize in order to get complete words"
   ]
  },
  {
   "cell_type": "markdown",
   "id": "54a5853e-ddaf-4a52-a826-9c38a46a7f9b",
   "metadata": {},
   "source": [
    "#### f. Make tokens to list form to create dictionary and bag of words"
   ]
  },
  {
   "cell_type": "code",
   "execution_count": 23,
   "id": "4bd60f11-5079-4231-8ead-48ed45c0b57e",
   "metadata": {},
   "outputs": [],
   "source": [
    "preprocessed_tokens = text_docs_df['processed_text'].apply(\n",
    "    lambda x: [token for token in x]\n",
    ").tolist()"
   ]
  },
  {
   "cell_type": "markdown",
   "id": "eb46a8c7-743c-4a7b-b0ff-d7fe7816b922",
   "metadata": {},
   "source": [
    "## Task 2: Generate Topics Using LDA"
   ]
  },
  {
   "cell_type": "markdown",
   "id": "2509e1a3-b019-4e2c-943e-44973d3a3a73",
   "metadata": {},
   "source": [
    "### 1. Create document-term matrix using bag of words representation"
   ]
  },
  {
   "cell_type": "code",
   "execution_count": 26,
   "id": "0f177df4-8a71-4fd4-9a59-da3b25ce69ad",
   "metadata": {},
   "outputs": [],
   "source": [
    "id2word = Dictionary(preprocessed_tokens)  # Gensim's Dictionary object\n",
    "corpus = [id2word.doc2bow(tokens) for tokens in preprocessed_tokens]  # Document-term matrix in BoW format"
   ]
  },
  {
   "cell_type": "markdown",
   "id": "06d83477-b8bd-48cc-a222-3252c9446514",
   "metadata": {},
   "source": [
    "### 2. Apply LDA to extract topics"
   ]
  },
  {
   "cell_type": "markdown",
   "id": "f8d4cfc3-7c85-4d65-a9cc-ddec0ce84a66",
   "metadata": {},
   "source": [
    "#### Finding optimal number of topics"
   ]
  },
  {
   "cell_type": "code",
   "execution_count": 29,
   "id": "33a856e0-ba43-49c7-876c-984579376ef4",
   "metadata": {},
   "outputs": [
    {
     "data": {
      "image/png": "[encoded data removed]",
      "text/plain": [
       "<Figure size 640x480 with 1 Axes>"
      ]
     },
     "metadata": {},
     "output_type": "display_data"
    }
   ],
   "source": [
    "# Find the optimal number of topics using coherence scores\n",
    "def compute_coherence_values(corpus, dictionary, texts, start, limit, step):\n",
    "    coherence_values = []\n",
    "    models = []\n",
    "    for num_topics in range(start, limit, step):\n",
    "        lda_model = LdaModel(corpus=corpus, id2word=dictionary, num_topics=num_topics, random_state=42)\n",
    "        models.append(lda_model)\n",
    "        coherence_model = CoherenceModel(model=lda_model, texts=texts, dictionary=dictionary, coherence='c_v')\n",
    "        coherence_values.append(coherence_model.get_coherence())\n",
    "    return models, coherence_values\n",
    "\n",
    "start, limit, step = 2, 20, 1  # Test topics from 2 to 20\n",
    "models, coherence_values = compute_coherence_values(corpus, id2word, preprocessed_tokens, start, limit, step)\n",
    "\n",
    "# Plot coherence scores\n",
    "x = range(start, limit, step)\n",
    "plt.plot(x, coherence_values)\n",
    "plt.xlabel(\"Number of Topics\")\n",
    "plt.ylabel(\"Coherence Score\")\n",
    "plt.title(\"Coherence Score by Number of Topics\")\n",
    "# Set x-axis ticks to display whole numbers\n",
    "plt.xticks(ticks=x)\n",
    "plt.show()"
   ]
  },
  {
   "cell_type": "markdown",
   "id": "23b05920-e63e-46e3-88e4-4b4aab85df3a",
   "metadata": {},
   "source": [
    "- The optimal number of topics is 8 as more than that maybe harder to interpret.\n",
    "- There is a slight increase from 8 to 15 and then a sharp decline to 20.\n",
    "- The increase from 8 to 15 represents a plateau and not much is gained."
   ]
  },
  {
   "cell_type": "markdown",
   "id": "2d83bb1d-e3ab-4568-b7ca-ca3bb80091bd",
   "metadata": {},
   "source": [
    "#### Applying LDA with optimal number of topics"
   ]
  },
  {
   "cell_type": "markdown",
   "id": "42468ed1-901c-4617-a770-81b320198566",
   "metadata": {},
   "source": [
    "- After interpreting the word outputs from the topic, it was observed that multiple topics had redundant words.\n",
    "- Therefore, topics was reduced and decided to be 4 as words are not overlapping between topics."
   ]
  },
  {
   "cell_type": "code",
   "execution_count": 33,
   "id": "b4eae531-f32a-4d88-8298-0e18a267f858",
   "metadata": {},
   "outputs": [],
   "source": [
    "final_lda_model = LdaModel(\n",
    "    corpus=corpus, id2word=id2word, num_topics=4, random_state=42\n",
    ")"
   ]
  },
  {
   "cell_type": "markdown",
   "id": "87330db1-c064-4a4d-811c-627cd2ac550d",
   "metadata": {},
   "source": [
    "### 3. Top 5 words for each topic"
   ]
  },
  {
   "cell_type": "code",
   "execution_count": 35,
   "id": "9b33d121-171b-4bb8-9eb1-eecd082997fd",
   "metadata": {},
   "outputs": [
    {
     "name": "stdout",
     "output_type": "stream",
     "text": [
      "Top 5 words per topic:\n",
      "\n",
      "Topic 1: world, investing, government, around, project\n",
      "Topic 2: industry, future, platform, rise, electric\n",
      "Topic 3: attention, critical, immediate, climate, issue\n",
      "Topic 4: digital, platform, become, cybersecurity, way\n"
     ]
    }
   ],
   "source": [
    "print(\"Top 5 words per topic:\\n\")\n",
    "for idx, topic in final_lda_model.show_topics(formatted=False, num_words=5):\n",
    "    print(f\"Topic {idx + 1}: {', '.join([word for word, _ in topic])}\")"
   ]
  },
  {
   "cell_type": "code",
   "execution_count": null,
   "id": "2ebdee1d-d3fd-4e55-b798-a623a80ac87c",
   "metadata": {},
   "outputs": [],
   "source": []
  }
 ],
 "metadata": {
  "kernelspec": {
   "display_name": "Python [conda env:base] *",
   "language": "python",
   "name": "conda-base-py"
  },
  "language_info": {
   "codemirror_mode": {
    "name": "ipython",
    "version": 3
   },
   "file_extension": ".py",
   "mimetype": "text/x-python",
   "name": "python",
   "nbconvert_exporter": "python",
   "pygments_lexer": "ipython3",
   "version": "3.12.7"
  }
 },
 "nbformat": 4,
 "nbformat_minor": 5
}
